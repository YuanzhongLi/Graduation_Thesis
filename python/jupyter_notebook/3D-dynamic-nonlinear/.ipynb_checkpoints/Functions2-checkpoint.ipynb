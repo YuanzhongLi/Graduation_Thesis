{
 "cells": [
  {
   "cell_type": "code",
   "execution_count": 145,
   "metadata": {},
   "outputs": [],
   "source": [
    "from scipy.spatial.transform import Rotation\n",
    "from scipy.linalg import expm\n",
    "import numpy as np\n",
    "from Functions import inputdata, get_abaqus_data\n",
    "from pyquaternion import Quaternion"
   ]
  },
  {
   "cell_type": "code",
   "execution_count": 146,
   "metadata": {},
   "outputs": [],
   "source": [
    "# v_data = get_abaqus_data('test05V.txt', 265, 23)\n",
    "def make_amp(v_data, delta_t=0.001, init_v=[-0.22906634372358425, 0.07038992291148816, -0.47632976594513821, 1.56221576610329290, 2.14566704525587680, -0.07210294407980200]):\n",
    "    step = v_data.shape[0]\n",
    "    npoin = v_data.shape[1] // 6\n",
    "    amp_labels = ['VX', 'VY', 'VZ', 'RVX', 'RVY', 'RVZ']\n",
    "    for index, label in enumerate(amp_labels):\n",
    "        with open('amp_{0}_{1}step_{2}point'.format(label, step, npoin), 'w', encoding='ascii') as f:\n",
    "            f.write('0 {0}\\n'.format(init_v[index]))\n",
    "            for s in range(1, step):\n",
    "                f.write('{0:.3f} {1}\\n'.format(delta_t*s, v_data[s, index]))                "
   ]
  },
  {
   "cell_type": "code",
   "execution_count": 147,
   "metadata": {},
   "outputs": [],
   "source": [
    "def show(ax, ay, az):\n",
    "    for i, j, k in zip(ax, ay, az):\n",
    "        print('{0:.3f} {1:.5f} {2:.5f} {3:.5f}'.format(i[0], i[1], j[1], k[1]))"
   ]
  },
  {
   "cell_type": "code",
   "execution_count": 114,
   "metadata": {},
   "outputs": [],
   "source": [
    "def make_O(wx, wy, wz):\n",
    "    return np.array([[0, wz, -wy, wx],\n",
    "                           [-wz, 0, wx, wy],\n",
    "                           [wy, -wx, 0, wz],\n",
    "                           [-wx, -wy, -wz, 0]], dtype=np.float64) "
   ]
  },
  {
   "cell_type": "code",
   "execution_count": 115,
   "metadata": {},
   "outputs": [],
   "source": [
    "def norm2(v):\n",
    "    return np.sqrt(np.sum(v**2))\n",
    "\n",
    "def get_q0(originCoordsG):\n",
    "    npoin = originCoordsG.shape[1]\n",
    "    a = np.array([originCoordsG[0, npoin-1], originCoordsG[1, npoin-1], originCoordsG[2, npoin-1]], \n",
    "                dtype=np.float64)\n",
    "    b = a / norm2(a)\n",
    "    x, y, z = b[0], b[1], b[2]\n",
    "    \n",
    "    theta1 = -np.arctan2(y, x)\n",
    "    tmp_q1 = Quaternion(axis=np.array([0, 0, 1]), angle=theta1)\n",
    "    \n",
    "    c = tmp_q1.rotate(b)\n",
    "#     print(c)   \n",
    "    \n",
    "    x1, y1, z1 = c[0], c[1], c[2]\n",
    "    theta2 = np.arctan2(z1, x1)\n",
    "    tmp_q2 = Quaternion(axis=np.array([0, 1, 0]), angle=theta2)\n",
    "    \n",
    "#     d = tmp_q2.rotate(c)\n",
    "#     print(d)\n",
    "    \n",
    "    q0 = tmp_q2 * tmp_q1    \n",
    "#     e = q0.rotate(b)\n",
    "#     print(e)\n",
    "\n",
    "    return q0\n",
    "    \n",
    "\n"
   ]
  },
  {
   "cell_type": "code",
   "execution_count": 137,
   "metadata": {},
   "outputs": [],
   "source": [
    "def make_rig_RA_RU(VX, VY, VZ, RVX, RVY, RVZ, delta_t ,originCoordsG):    \n",
    "    n_t = VX.shape[0] - 1\n",
    "    npoin = originCoordsG.shape[1]\n",
    "    # 原点情報    \n",
    "    UX = np.zeros((n_t+1, 2), dtype=np.float64)\n",
    "    UY = np.zeros((n_t+1, 2), dtype=np.float64)\n",
    "    UZ = np.zeros((n_t+1, 2), dtype=np.float64)    \n",
    "    AX = np.zeros((n_t+1, 2), dtype=np.float64)\n",
    "    AY = np.zeros((n_t+1, 2), dtype=np.float64)    \n",
    "    AZ = np.zeros((n_t+1, 2), dtype=np.float64)           \n",
    "    \n",
    "    RAX = np.zeros((n_t+1, 2), dtype=np.float64)\n",
    "    RAY = np.zeros((n_t+1, 2), dtype=np.float64)    \n",
    "    RAZ = np.zeros((n_t+1, 2), dtype=np.float64)\n",
    "\n",
    "    for i in range(1, n_t+1):\n",
    "        # 時間設定\n",
    "        UX[i, 0] = VX[i, 0]\n",
    "        AX[i, 0] = VX[i, 0]            \n",
    "        UY[i, 0] = VY[i, 0]\n",
    "        AY[i, 0] = VY[i, 0]\n",
    "        UZ[i, 0] = VZ[i, 0]\n",
    "        AZ[i, 0] = VZ[i, 0]\n",
    "        \n",
    "        RAX[i, 0] = RVX[i, 0]\n",
    "        RAY[i, 0] = RVY[i, 0]\n",
    "        RAZ[i, 0] = RVZ[i, 0]\n",
    "        \n",
    "        if i > 1:\n",
    "            UX[i, 1] = (VX[i, 1] + VX[i-1, 1])/2 * delta_t + UX[i-1, 1]\n",
    "            UY[i, 1] = (VY[i, 1] + VY[i-1, 1])/2 * delta_t + UY[i-1, 1] \n",
    "            UZ[i, 1] = (VZ[i, 1] + VZ[i-1, 1])/2 * delta_t + UZ[i-1, 1]\n",
    "                        \n",
    "            if i < n_t:\n",
    "                AX[i, 1] = (VX[i+1, 1]-VX[i-1, 1])/2/delta_t\n",
    "                AY[i, 1] = (VY[i+1, 1]-VY[i-1, 1])/2/delta_t  \n",
    "                AZ[i, 1] = (VZ[i+1, 1]-VZ[i-1, 1])/2/delta_t                \n",
    "                \n",
    "                RAX[i, 1] = (RVX[i+1, 1]-RVX[i-1, 1])/2/delta_t\n",
    "                RAY[i, 1] = (RVY[i+1, 1]-RVY[i-1, 1])/2/delta_t                 \n",
    "                RAZ[i, 1] = (RVZ[i+1, 1]-RVZ[i-1, 1])/2/delta_t \n",
    "                \n",
    "    # 初期設定\n",
    "    AX[1, 1] = AX[2, 1]\n",
    "    AY[1, 1] = AY[2, 1]\n",
    "    AZ[1, 1] = AZ[2, 1]\n",
    "    \n",
    "    RAX[1, 1] = RAX[2, 1]\n",
    "    RAY[1, 1] = RAY[2, 1]\n",
    "    RAZ[1, 1] = RAZ[2, 1]\n",
    "    \n",
    "    tmp = np.array([originCoordsG[0, npoin-1], originCoordsG[1, npoin-1], originCoordsG[2, npoin-1]], dtype=np.float64)\n",
    "    originE =  (1/np.sum(np.sqrt(tmp**2)))*tmp\n",
    "    q0 = Quaternion(np.array([1, 0, 0, 0]))\n",
    "#     q0 = get_q0(originCoordsG)\n",
    "    qs = [q0]\n",
    "    total_qs = [q0]\n",
    "    \n",
    "    for step in range(1, n_t+1): # step-1からstepを作る\n",
    "        wx = RVX[step, 1]\n",
    "        wy = RVY[step ,1]\n",
    "        wz = RVZ[step, 1]\n",
    "#         O = make_W(RVX[step, 1], RVY[step, 1], RVZ[step, 1])        \n",
    "#         P = expm(1/2*delta_t*O)\n",
    "        \n",
    "        q_prev = total_qs[step-1]\n",
    "#         print(delta_t, wx, wy, wz)\n",
    "        q_next = Quaternion()    \n",
    "#         print(wx, wy, wz)\n",
    "        q_next.integrate(np.array([wx, wy, wz], dtype=np.float64), delta_t)\n",
    "    \n",
    "        qs.append(q_next)\n",
    "#         print(q_next, q_next*q_prev)\n",
    "        total_qs.append(q_next*q_prev)\n",
    "        \n",
    "    return UX, UY, UZ, AX, AY, AZ, RAX, RAY, RAZ, qs, total_qs    "
   ]
  },
  {
   "cell_type": "code",
   "execution_count": 240,
   "metadata": {},
   "outputs": [],
   "source": [
    "# UX, UY, UZ, AX, AY, AZ, RAX, RAY, RAZ, qs, total_qs = make_rig_RA_RU(VX, VY, VZ, RVX, RVY, RVZ, delta_t ,originCoordsG)"
   ]
  },
  {
   "cell_type": "code",
   "execution_count": 241,
   "metadata": {},
   "outputs": [],
   "source": [
    "# for index, q in enumerate(total_qs):\n",
    "#     ox = originCoordsG[0, npoin-1]\n",
    "#     oy = originCoordsG[1, npoin-1]\n",
    "#     oz = originCoordsG[2, npoin-1]\n",
    "#     ux = UX[index+1, 1]\n",
    "#     uy = UY[index+1, 1]\n",
    "#     uz = UZ[index+1, 1]    \n",
    "#     c = q.rotate(np.array([ox, oy, oz]))\n",
    "#     print(index, c[0]+ux-ox, c[1]+uy-oy, c[2]+uz-oz)"
   ]
  },
  {
   "cell_type": "code",
   "execution_count": 242,
   "metadata": {
    "lines_to_next_cell": 2
   },
   "outputs": [],
   "source": [
    "# inp_path = 'test08.txt'\n",
    "# originCoordsG, ae, npoin, nele, delta_t, n_t, VX, VY, VZ, RVX, RVY, RVZ, head_mass, gamma, omega, HHT_alpha \\\n",
    "# = inputdata(inp_path)"
   ]
  },
  {
   "cell_type": "code",
   "execution_count": 243,
   "metadata": {},
   "outputs": [],
   "source": [
    "# show(VX, VY, VZ)"
   ]
  },
  {
   "cell_type": "code",
   "execution_count": 244,
   "metadata": {},
   "outputs": [],
   "source": [
    "def make_expanded_amp(V_array, rate):    \n",
    "    labels = ['VX', 'VY', 'VZ', 'RVX', 'RVY', 'RVZ']\n",
    "    for V, label in zip(V_array, labels):\n",
    "        delta_t = V[2, 0]\n",
    "        size = len(V)-1\n",
    "        expanded_amp = np.zeros((size*rate+1, 2), dtype=np.float64)\n",
    "#         print(expanded_amp[0, 0], expanded_amp[0, 1])\n",
    "        for i in range(size):\n",
    "            for idx, j in enumerate(range(i*rate+1, (i+1)*rate+1)):                \n",
    "                expanded_amp[j-1, 0] = (j-1) * delta_t\n",
    "                expanded_amp[j-1, 1] = (V[i,1] + (V[i+1, 1]-V[i,1])/rate*(idx+1))/rate\n",
    "#                 print(i, j, expanded_amp[j-1, 0], expanded_amp[j-1, 1])\n",
    "#         return\n",
    "        with open('amp_{0}_expand{1}.txt'.format(label, rate), 'w', encoding='ascii') as f:\n",
    "            for amp in expanded_amp[:-1]:\n",
    "                if i < len(expanded_amp[:-1])-1:\n",
    "                    f.write('{0:.5f} {1}\\n'.format(amp[0], amp[1]))\n",
    "                else:\n",
    "                    f.write('{0:.5f} {1}'.format(amp[0], amp[1]))"
   ]
  },
  {
   "cell_type": "code",
   "execution_count": 245,
   "metadata": {},
   "outputs": [],
   "source": [
    "# make_expanded_amp([VX, VY, VZ, RVX, RVY, RVZ], 10)\n",
    "# make_expanded_amp([VX, VY, VZ, RVX, RVY, RVZ], 5)\n",
    "# make_expanded_amp([VX, VY, VZ, RVX, RVY, RVZ], 3)"
   ]
  },
  {
   "cell_type": "code",
   "execution_count": null,
   "metadata": {},
   "outputs": [],
   "source": []
  }
 ],
 "metadata": {
  "jupytext": {
   "encoding": "# -*- coding: utf-8 -*-",
   "text_representation": {
    "extension": ".py",
    "format_name": "light",
    "format_version": "1.5",
    "jupytext_version": "1.3.2"
   }
  },
  "kernelspec": {
   "display_name": "Python 3",
   "language": "python",
   "name": "python3"
  },
  "language_info": {
   "codemirror_mode": {
    "name": "ipython",
    "version": 3
   },
   "file_extension": ".py",
   "mimetype": "text/x-python",
   "name": "python",
   "nbconvert_exporter": "python",
   "pygments_lexer": "ipython3",
   "version": "3.7.4"
  }
 },
 "nbformat": 4,
 "nbformat_minor": 2
}
