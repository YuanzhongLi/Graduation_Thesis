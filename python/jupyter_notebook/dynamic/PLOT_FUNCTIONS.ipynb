{
 "cells": [
  {
   "cell_type": "code",
   "execution_count": 1,
   "metadata": {},
   "outputs": [],
   "source": [
    "import numpy as np\n",
    "import matplotlib.pyplot as plt"
   ]
  },
  {
   "cell_type": "code",
   "execution_count": 2,
   "metadata": {},
   "outputs": [],
   "source": [
    "def plot_dis(dis, save=False, title='Newmark B method', fig_name='Newmark_verif.png'):\n",
    "    fig = plt.figure(figsize=(12, 8))\n",
    "    ax = fig.add_subplot(1,1, 1)\n",
    "    ax.plot(dis, label='y elastic displacement', color='blue')\n",
    "    plt.title(title, fontsize=18)\n",
    "    plt.xlabel('time [1e-3 sec]', fontsize=18)\n",
    "    plt.ylabel('elastic displacement [m]', fontsize=18)\n",
    "    plt.legend(bbox_to_anchor=(1, 1), loc='upper right', borderaxespad=1, fontsize=14)\n",
    "    if save:        \n",
    "        plt.savefig(fig_name)\n",
    "    plt.show()"
   ]
  },
  {
   "cell_type": "code",
   "execution_count": 3,
   "metadata": {},
   "outputs": [],
   "source": [
    "# b*1000 stepを1000stepに直す\n",
    "def format_y_dis(y_dis, b):\n",
    "    ret = np.zeros((1001), dtype=np.float64)\n",
    "    for i in range(1, 1001):\n",
    "        ret[i] = y_dis[i*b]\n",
    "    return ret "
   ]
  }
 ],
 "metadata": {
  "jupytext": {
   "encoding": "# -*- coding: utf-8 -*-",
   "text_representation": {
    "extension": ".py",
    "format_name": "light",
    "format_version": "1.5",
    "jupytext_version": "1.3.3"
   }
  },
  "kernelspec": {
   "display_name": "Python 3",
   "language": "python",
   "name": "python3"
  },
  "language_info": {
   "codemirror_mode": {
    "name": "ipython",
    "version": 3
   },
   "file_extension": ".py",
   "mimetype": "text/x-python",
   "name": "python",
   "nbconvert_exporter": "python",
   "pygments_lexer": "ipython3",
   "version": "3.7.4"
  }
 },
 "nbformat": 4,
 "nbformat_minor": 4
}
