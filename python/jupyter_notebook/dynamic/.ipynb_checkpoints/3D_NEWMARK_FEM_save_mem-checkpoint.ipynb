{
 "cells": [
  {
   "cell_type": "code",
   "execution_count": 18,
   "metadata": {},
   "outputs": [],
   "source": [
    "import numpy as np\n",
    "import scipy\n",
    "from scipy.sparse.linalg import spsolve\n",
    "from scipy.spatial.transform import Rotation\n",
    "from scipy.sparse import csr_matrix\n",
    "import sys\n",
    "import time\n",
    "import pickle\n",
    "from PLOT_FUNCTIONS import *"
   ]
  },
  {
   "cell_type": "code",
   "execution_count": 2,
   "metadata": {},
   "outputs": [],
   "source": [
    "def inputdata(fnameR, nod, nfree):  #データパス, 要素節点数, 自由度\n",
    "    f = open(fnameR, 'r')\n",
    "    text = f.readline()  # コメント\n",
    "    text = f.readline()  # 1行ずつ読み込む\n",
    "    text = text.strip()  # 端の空白, 改行(\\n)を削除\n",
    "    text = text.split()  # ' '　で別れた要素ごとの配列にする\n",
    "    npoin = int(text[0])  # ノード数\n",
    "    nele = int(text[1])  # 要素数\n",
    "    npfix = int(text[2])  # 拘束点数\n",
    "    nlod = int(text[3])  # 荷重点数\n",
    "    delta_t = float(text[4])  # 微小時間\n",
    "    n_t = int(text[5])  # 微小時間数\n",
    "    # 配列宣言\n",
    "    ae = np.zeros((9, nele), dtype=np.float64)  # 要素特性\n",
    "    node = np.zeros((nod + 1, nele), dtype=np.int)  # 要素構成節点\n",
    "    x = np.zeros((3, npoin), dtype=np.float64)  # 座標\n",
    "    mpfix = np.zeros((nfree, npoin), dtype=np.int)  # 拘束状態\n",
    "    rdis = np.zeros((nfree, npoin), dtype=np.float64)  # 既知変位\n",
    "    fp = np.zeros((nfree * npoin), dtype=np.float64)  # 外力\n",
    "    \n",
    "    # 要素特性: ae\n",
    "    text = f.readline()  # コメント\n",
    "    text = f.readline()\n",
    "    text = text.strip().split()\n",
    "    for i in range(0, nele):                \n",
    "        ae[0, i] = float(text[0])  # A\n",
    "        ae[1, i] = float(text[1])  # I11\n",
    "        ae[2, i] = float(text[2])  # I12\n",
    "        ae[3, i] = float(text[3])  # I22\n",
    "        ae[4, i] = float(text[4])  # J\n",
    "        ae[5, i] = float(text[5])  # E\n",
    "        ae[6, i] = float(text[6])  # G\n",
    "        ae[7, i] = float(text[7])  # density\n",
    "    \n",
    "    # 要素構成節点: node\n",
    "    text = f.readline()  # コメント   \n",
    "    for i in range(0, nele):\n",
    "        text = f.readline()\n",
    "        text = text.strip().split()\n",
    "        node[0, i] = int(text[0])  #node_1\n",
    "        node[1, i] = int(text[1])  #node_2\n",
    "        node[2, i] = int(text[2])  #要素番号            \n",
    "\n",
    "    # 座標: x\n",
    "    text = f.readline()  # コメント    \n",
    "    for i in range(0, npoin):\n",
    "        text = f.readline()\n",
    "        text = text.strip().split()\n",
    "        x[0, i] = float(text[0])  # x-座標\n",
    "        x[1, i] = float(text[1])  # y-座標\n",
    "        x[2, i] = float(text[2])  # z-座標\n",
    "    \n",
    "    # 要素質量を計算\n",
    "    for i in range(0, nele):\n",
    "        node1_x = x[0, i]\n",
    "        node1_y = x[1, i]\n",
    "        node1_z = x[2, i]\n",
    "        node2_x = x[0, i + 1]\n",
    "        node2_y = x[1, i+1]\n",
    "        node2_z = x[2, i+1]\n",
    "        A = ae[0, i]\n",
    "        density = ae[7, i]\n",
    "        ae[8, i] = abs(node1_x - node2_x) * A * density        \n",
    "\n",
    "    # 境界条件（拘束状態） (0:free, 1:restricted)\n",
    "    text = f.readline()  # コメント    \n",
    "    for i in range(0, npfix):\n",
    "        text = f.readline()\n",
    "        text = text.strip()\n",
    "        text = text.split()\n",
    "        lp = int(text[0])  # 固定されたノード番号\n",
    "        mpfix[0, lp - 1] = int(text[1])  # x方向固定\n",
    "        mpfix[1, lp - 1] = int(text[2])  # y方向固定\n",
    "        mpfix[2, lp - 1] = int(text[3])  # z方向固定\n",
    "        mpfix[3, lp - 1] = int(text[4])  # x軸回転固定\n",
    "        mpfix[4, lp - 1] = int(text[5])  # y軸回転固定\n",
    "        mpfix[5, lp - 1] = int(text[6])  # z軸回転固定\n",
    "        rdis[0, lp - 1] = float(text[7])  # x方向既知変位\n",
    "        rdis[1, lp - 1] = float(text[8])  # y方向既知変位\n",
    "        rdis[2, lp - 1] = float(text[9])  # z方向既知変位\n",
    "        rdis[3, lp - 1] = float(text[10])  # x軸既知回転量\n",
    "        rdis[4, lp - 1] = float(text[11])  # y軸既知回転量\n",
    "        rdis[5, lp - 1] = float(text[12])  # z軸既知回転量\n",
    "\n",
    "    # 荷重\n",
    "    text = f.readline()  # コメント    \n",
    "    for i in range(0, nlod):\n",
    "        text = f.readline()\n",
    "        text = text.strip().split()\n",
    "        lp = int(text[0])\n",
    "        fp[6 * lp - 6] = float(text[1])  # x方向荷重\n",
    "        fp[6 * lp - 5] = float(text[2])  # y方向荷重\n",
    "        fp[6 * lp - 4] = float(text[3])  # z方向荷重\n",
    "        fp[6 * lp - 3] = float(text[4])  # x軸モーメント\n",
    "        fp[6 * lp - 2] = float(text[5])  # y軸モーメント\n",
    "        fp[6 * lp - 1] = float(text[6])  # z軸モーメント\n",
    "    f.close()\n",
    "    return npoin, nele, npfix, nlod, delta_t, n_t, ae, node, x, mpfix, rdis, fp"
   ]
  },
  {
   "cell_type": "code",
   "execution_count": 3,
   "metadata": {},
   "outputs": [],
   "source": [
    "# 要素剛性マトリックス作成（local）\n",
    "def sm_3dfrm(EA,GJ,EIy,EIz,x1,y1,z1,x2,y2,z2):\n",
    "    ek=np.zeros((12,12),dtype=np.float64) # local stiffness matrix\n",
    "    xx=x2-x1\n",
    "    yy=y2-y1\n",
    "    zz=z2-z1\n",
    "    el=np.sqrt(xx**2+yy**2+zz**2)\n",
    "    ek[ 0, 0]= EA/el\n",
    "    ek[ 0, 6]=-EA/el\n",
    "    ek[ 1, 1]= 12*EIz/el**3\n",
    "    ek[ 1, 5]=  6*EIz/el**2\n",
    "    ek[ 1, 7]=-12*EIz/el**3\n",
    "    ek[ 1,11]=  6*EIz/el**2\n",
    "    ek[ 2, 2]= 12*EIy/el**3\n",
    "    ek[ 2, 4]= -6*EIy/el**2\n",
    "    ek[ 2, 8]=-12*EIy/el**3\n",
    "    ek[ 2,10]= -6*EIy/el**2\n",
    "    ek[ 3, 3]= GJ/el\n",
    "    ek[ 3, 9]=-GJ/el\n",
    "    ek[ 4, 2]= -6*EIy/el**2\n",
    "    ek[ 4, 4]=  4*EIy/el\n",
    "    ek[ 4, 8]=  6*EIy/el**2\n",
    "    ek[ 4,10]=  2*EIy/el\n",
    "    ek[ 5, 1]=  6*EIz/el**2\n",
    "    ek[ 5, 5]=  4*EIz/el\n",
    "    ek[ 5, 7]= -6*EIz/el**2\n",
    "    ek[ 5,11]=  2*EIz/el\n",
    "    ek[ 6, 0]=-EA/el\n",
    "    ek[ 6, 6]= EA/el\n",
    "    ek[ 7, 1]=-12*EIz/el**3\n",
    "    ek[ 7, 5]= -6*EIz/el**2\n",
    "    ek[ 7, 7]= 12*EIz/el**3\n",
    "    ek[ 7,11]= -6*EIz/el**2\n",
    "    ek[ 8, 2]=-12*EIy/el**3\n",
    "    ek[ 8, 4]=  6*EIy/el**2\n",
    "    ek[ 8, 8]= 12*EIy/el**3\n",
    "    ek[ 8,10]=  6*EIy/el**2\n",
    "    ek[ 9, 3]=-GJ/el\n",
    "    ek[ 9, 9]= GJ/el\n",
    "    ek[10, 2]= -6*EIy/el**2\n",
    "    ek[10, 4]=  2*EIy/el\n",
    "    ek[10, 8]=  6*EIy/el**2\n",
    "    ek[10,10]=  4*EIy/el\n",
    "    ek[11, 1]=  6*EIz/el**2\n",
    "    ek[11, 5]=  2*EIz/el\n",
    "    ek[11, 7]= -6*EIz/el**2\n",
    "    ek[11,11]=  4*EIz/el\n",
    "    return ek"
   ]
  },
  {
   "cell_type": "code",
   "execution_count": 4,
   "metadata": {},
   "outputs": [],
   "source": [
    "def mass_3dfrm(ae_mass, npoin, nfree):\n",
    "    # 番兵追加\n",
    "    mass = np.append(ae_mass, 0.0)\n",
    "    mass = np.insert(mass, 0, 0.0)\n",
    "    ret = np.zeros((npoin*nfree, npoin*nfree), dtype=np.float64)\n",
    "    for i in range(0, len(mass) - 1):\n",
    "        node_mass = (mass[i] + mass[i+1]) / 2.0\n",
    "        for j in range(3):\n",
    "            idx = i*nfree + j\n",
    "            ret[idx,idx] = node_mass\n",
    "    return ret"
   ]
  },
  {
   "cell_type": "code",
   "execution_count": 5,
   "metadata": {},
   "outputs": [],
   "source": [
    "def dumping_3dfrm(gamma, omega, mass_mat, gk):\n",
    "    m = gamma * mass_mat\n",
    "    gk = omega * gk    \n",
    "    for i in range(0, len(gk)):\n",
    "        gk[i, i] += m[i, i]        \n",
    "    return gk"
   ]
  },
  {
   "cell_type": "code",
   "execution_count": 6,
   "metadata": {},
   "outputs": [],
   "source": [
    "# newmark マトリックスを作成\n",
    "# newmarkのparam: alpha, beta\n",
    "def newmark_3dfrm(delta_t, alpha, beta, gk, mass_mat, c_mat): \n",
    "    return (1.0/beta/delta_t**2) * mass_mat  \\\n",
    "         + (alpha/beta/delta_t) * c_mat \\\n",
    "         + gk"
   ]
  },
  {
   "cell_type": "code",
   "execution_count": 7,
   "metadata": {},
   "outputs": [],
   "source": [
    "def main_3d_NEWMARK_FEM(file_path):\n",
    "    start=time.time()\n",
    "    args = sys.argv\n",
    "    fnameR=args[1]\n",
    "    fnameW=args[2]\n",
    "    nod=2\n",
    "    nfree=6\n",
    "    alpha=0.5  # newmark param\n",
    "    beta=0.25  # newmark param\n",
    "    gamma=0.01 # dumping param\n",
    "    omega=0.01 # dumping param\n",
    "    npoin,nele,npfix,nlod,delta_t,n_t,ae,node,x,mpfix,rdis,fp=inputdata(file_path,nod,nfree)\n",
    "    mass_mat=mass_3dfrm(ae[8], npoin, nfree)\n",
    "    # メモリを32 * nfree * npointに抑える\n",
    "    acc=np.zeros((32, nfree*npoin), dtype=np.float64)\n",
    "    vec=np.zeros((32, nfree*npoin), dtype=np.float64)\n",
    "    dis=np.zeros((32, nfree*npoin), dtype=np.float64)        \n",
    "    z  =np.zeros(n_t+1, dtype=np.float64)\n",
    "\n",
    "    ir=np.zeros(nod*nfree, dtype=np.int) \n",
    "    gk=np.zeros((nfree*npoin, nfree*npoin), dtype=np.float64) # Global stifness matrix\n",
    "\n",
    "    # assembly stifness matrix & load vector\n",
    "    for ne in range(0, nele):\n",
    "        i=node[0,ne]-1\n",
    "        j=node[1,ne]-1\n",
    "        m=node[2,ne]-1\n",
    "        x1=x[0,i]; y1=x[1,i]; z1=x[2,i]\n",
    "        x2=x[0,j]; y2=x[1,j]; z2=x[2,j]\n",
    "        A   =ae[0,m]  \n",
    "        I11 =ae[1,m]  \n",
    "        I12 =ae[2,m]\n",
    "        I22 =ae[3,m]\n",
    "        J   =ae[4,m]  \n",
    "        E   =ae[5,m] \n",
    "        G   =ae[6,m] \n",
    "        EA=E*A\n",
    "        GJ=G*J\n",
    "        EIy=E*I11\n",
    "        EIz=E*I22\n",
    "        ek=sm_3dfrm(EA,GJ,EIy,EIz,x1,y1,z1,x2,y2,z2) # local stiffness matrix                                \n",
    "        ir[11]=6*j+5; ir[10]=ir[11]-1; ir[9]=ir[10]-1; ir[8]=ir[9]-1; ir[7]=ir[8]-1; ir[6]=ir[7]-1\n",
    "        ir[5] =6*i+5; ir[4] =ir[5]-1 ; ir[3]=ir[4]-1 ; ir[2]=ir[3]-1; ir[1]=ir[2]-1; ir[0]=ir[1]-1                \n",
    "        # assemble\n",
    "        for i in range(0, nod*nfree):\n",
    "            it=ir[i]\n",
    "            for j in range(0, nod*nfree):\n",
    "                jt=ir[j]\n",
    "                gk[it, jt] = gk[it, jt] + ek[i,j]               \n",
    "\n",
    "    c_mat=dumping_3dfrm(gamma, omega, mass_mat, gk)\n",
    "    newmark_mat=newmark_3dfrm(delta_t, alpha, beta, gk, mass_mat, c_mat)  \n",
    "        \n",
    "    for step in range(1, n_t+1):\n",
    "        cur_32step = (step % 32)\n",
    "        prev_32step = cur_32step-1\n",
    "        if (prev_32step == -1):\n",
    "            prev_32step = 31                                                            \n",
    "\n",
    "        # fpを整理\n",
    "        tmp_for_mass = (1.0/beta/delta_t**2)  * dis[prev_32step] \\\n",
    "                     + (1.0/beta/delta_t)     * vec[prev_32step] \\\n",
    "                     + ((1.0/2/beta)-1.0)     * acc[prev_32step]\n",
    "\n",
    "        tmp_for_c = (alpha/beta/delta_t)            * dis[prev_32step] \\\n",
    "                  + ((alpha/beta)-1.0)              * vec[prev_32step] \\\n",
    "                  + delta_t * ((alpha/2/beta)-1.0)  * acc[prev_32step]                       \n",
    "\n",
    "        Fp = fp + np.dot(mass_mat, tmp_for_mass) + np.dot(c_mat, tmp_for_c)            \n",
    "\n",
    "        # boudary conditions\n",
    "        for i in range(0, npoin):\n",
    "            for j in range(0, nfree):\n",
    "                if mpfix[j, i] == 1:                        \n",
    "                    iz=i*nfree+j\n",
    "                    Fp[iz]=0.0\n",
    "\n",
    "        for i in range (0, npoin):\n",
    "            for j in range(0, nfree):\n",
    "                if mpfix[j, i] == 1:\n",
    "                    iz=i*nfree+j\n",
    "                    newmark_mat[:,iz]=0.0\n",
    "                    newmark_mat[iz,iz]=1.0\n",
    "        # 疎行列圧縮格納\n",
    "        sp_newmark_mat = csr_matrix(newmark_mat)\n",
    "        dis[cur_32step] = spsolve(sp_newmark_mat, Fp, use_umfpack=True)\n",
    "\n",
    "        # 拘束条件を再代入する\n",
    "        for i in range(0, npoin):\n",
    "            for j in range(0, nfree):\n",
    "                if mpfix[j, i] == 1:\n",
    "                    iz=i*nfree+j\n",
    "                    dis[cur_32step, iz] = rdis[j, i]\n",
    "\n",
    "        # 速度, 加速度計算            \n",
    "        acc[cur_32step] = (1.0/beta/delta_t**2)  * (dis[cur_32step] - dis[prev_32step]) \\\n",
    "                        - (1.0/beta/delta_t)     * vec[prev_32step] \\\n",
    "                        - ((1.0/2/beta)-1.0)     * acc[prev_32step]\n",
    "\n",
    "        vec[cur_32step] = (alpha/beta/delta_t)         * (dis[cur_32step] - dis[prev_32step]) \\\n",
    "                        + (1.0-(alpha/beta))           * vec[prev_32step] \\\n",
    "                        + delta_t*(1.0-(alpha/2/beta)) * acc[prev_32step] \n",
    "\n",
    "        z[step] = dis[cur_32step, 22 * 6 + 2]        \n",
    "        if (step % 100 == 0):                \n",
    "            step_time = time.time()-start\n",
    "            print('{0} step: {1:.3f}'.format(step, step_time))\n",
    "    # print out result\n",
    "    dtime=time.time()-start\n",
    "    print('time: {0:.3f}'.format(dtime)+'sec')\n",
    "    # 荷重方向のみ返している\n",
    "    return z"
   ]
  },
  {
   "cell_type": "code",
   "execution_count": 12,
   "metadata": {},
   "outputs": [
    {
     "name": "stdout",
     "output_type": "stream",
     "text": [
      "100 step: 0.100\n",
      "200 step: 0.174\n",
      "300 step: 0.252\n",
      "400 step: 0.352\n",
      "500 step: 0.436\n",
      "600 step: 0.520\n",
      "700 step: 0.608\n",
      "800 step: 0.693\n",
      "900 step: 0.789\n",
      "1000 step: 0.876\n",
      "time: 0.876sec\n"
     ]
    }
   ],
   "source": [
    "y_dis = main_3d_NEWMARK_FEM('test1000step.txt')"
   ]
  },
  {
   "cell_type": "code",
   "execution_count": 11,
   "metadata": {},
   "outputs": [
    {
     "data": {
      "image/png": "[encoded data removed]",
      "text/plain": [
       "<Figure size 864x576 with 1 Axes>"
      ]
     },
     "metadata": {
      "needs_background": "light"
     },
     "output_type": "display_data"
    }
   ],
   "source": [
    "plot_dis(y_dis)"
   ]
  },
  {
   "cell_type": "code",
   "execution_count": 14,
   "metadata": {},
   "outputs": [],
   "source": [
    "# 基準となる100,000 step\n",
    "y_dis2 = main_3d_NEWMARK_FEM('test100000step.txt')"
   ]
  },
  {
   "cell_type": "code",
   "execution_count": 33,
   "metadata": {},
   "outputs": [],
   "source": [
    "y_dis2_formatted = format_y_dis(y_dis2, 100)"
   ]
  },
  {
   "cell_type": "code",
   "execution_count": 15,
   "metadata": {},
   "outputs": [],
   "source": [
    "# 10,000 step\n",
    "y_dis3 = main_3d_NEWMARK_FEM('test10000step.txt')"
   ]
  },
  {
   "cell_type": "code",
   "execution_count": 37,
   "metadata": {},
   "outputs": [],
   "source": [
    "y_dis3_formatted = format_y_dis(y_dis3, 10)"
   ]
  },
  {
   "cell_type": "code",
   "execution_count": 16,
   "metadata": {},
   "outputs": [],
   "source": [
    "# 2,000 step\n",
    "y_dis4 = main_3d_NEWMARK_FEM('test2000step.txt')"
   ]
  },
  {
   "cell_type": "code",
   "execution_count": 41,
   "metadata": {},
   "outputs": [],
   "source": [
    "y_dis4_formatted = format_y_dis(y_dis4, 2)"
   ]
  },
  {
   "cell_type": "code",
   "execution_count": 17,
   "metadata": {},
   "outputs": [],
   "source": [
    "# 5,000 step\n",
    "y_dis5 = main_3d_NEWMARK_FEM('test5000step.txt')"
   ]
  },
  {
   "cell_type": "code",
   "execution_count": 44,
   "metadata": {},
   "outputs": [],
   "source": [
    "y_dis5_formatted = format_y_dis(y_dis5, 5)"
   ]
  },
  {
   "cell_type": "code",
   "execution_count": 45,
   "metadata": {},
   "outputs": [],
   "source": [
    "data = {\n",
    "    'step1000': y_dis,\n",
    "    'step2000': y_dis4_formatted,\n",
    "    'step5000': y_dis5_formatted,\n",
    "    'step10000': y_dis3_formatted,\n",
    "    'step100000': y_dis2_formatted,    \n",
    "}"
   ]
  },
  {
   "cell_type": "code",
   "execution_count": null,
   "metadata": {},
   "outputs": [],
   "source": [
    "# dataを保存\n",
    "with open ('newmark精度テストデータ001', 'wb') as f:\n",
    "    pickle.dump(data, f)"
   ]
  }
 ],
 "metadata": {
  "jupytext": {
   "encoding": "# -*- coding: utf-8 -*-",
   "text_representation": {
    "extension": ".py",
    "format_name": "light",
    "format_version": "1.5",
    "jupytext_version": "1.3.3"
   }
  },
  "kernelspec": {
   "display_name": "Python 3",
   "language": "python",
   "name": "python3"
  },
  "language_info": {
   "codemirror_mode": {
    "name": "ipython",
    "version": 3
   },
   "file_extension": ".py",
   "mimetype": "text/x-python",
   "name": "python",
   "nbconvert_exporter": "python",
   "pygments_lexer": "ipython3",
   "version": "3.7.4"
  }
 },
 "nbformat": 4,
 "nbformat_minor": 2
}
