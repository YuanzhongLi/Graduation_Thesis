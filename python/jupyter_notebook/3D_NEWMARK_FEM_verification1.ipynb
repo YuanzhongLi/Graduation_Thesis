{
 "cells": [
  {
   "cell_type": "code",
   "execution_count": 1,
   "metadata": {},
   "outputs": [],
   "source": [
    "import numpy as np\n",
    "import scipy\n",
    "from scipy.sparse.linalg import spsolve\n",
    "from scipy.sparse import csr_matrix\n",
    "import sys\n",
    "import time\n",
    "import matplotlib.pyplot as plt"
   ]
  },
  {
   "cell_type": "code",
   "execution_count": 2,
   "metadata": {},
   "outputs": [],
   "source": [
    "def inputdata(fnameR, nod, nfree):  #データパス, 要素節点数, 自由度\n",
    "    f = open(fnameR, 'r')\n",
    "    text = f.readline()  # コメント\n",
    "    text = f.readline()  # 1行ずつ読み込む\n",
    "    text = text.strip()  # 端の空白, 改行(\\n)を削除\n",
    "    text = text.split()  # ','　で別れた要素ごとの配列にする\n",
    "    npoin = int(text[0])  # ノード数\n",
    "    nele = int(text[1])  # 要素数\n",
    "    npfix = int(text[2])  # 拘束点数\n",
    "    nlod = int(text[3])  # 荷重点数\n",
    "    delta_t = float(text[4])  # 微小時間\n",
    "    n_t = int(text[5])  # 微小時間数\n",
    "    # 配列宣言\n",
    "    ae = np.zeros((11, nele), dtype=np.float64)  # 要素特性\n",
    "    node = np.zeros((nod + 1, nele), dtype=np.int)  # 要素構成節点\n",
    "    x = np.zeros((3, npoin), dtype=np.float64)  # 座標\n",
    "    mpfix = np.zeros((n_t + 1, nfree, npoin), dtype=np.int)  # 拘束状態\n",
    "    rdis = np.zeros((n_t + 1, nfree, npoin), dtype=np.float64)  # 既知変位\n",
    "    fp = np.zeros((n_t + 1, nfree * npoin), dtype=np.float64)  # 外力\n",
    "    # 要素特性: ae\n",
    "    text = f.readline()  # コメント\n",
    "    for i in range(0, nele):\n",
    "        text = f.readline()\n",
    "        text = text.strip()\n",
    "        text = text.split()\n",
    "        ae[0, i] = float(text[0])  # E\n",
    "        ae[1, i] = float(text[1])  # Po\n",
    "        ae[2, i] = float(text[2])  # A\n",
    "        ae[3, i] = float(text[3])  # Ix\n",
    "        ae[4, i] = float(text[4])  # Iy\n",
    "        ae[5, i] = float(text[5])  # Iz\n",
    "        ae[6, i] = float(text[6])  # density\n",
    "        ae[7, i] = float(text[7])  # gkx\n",
    "        ae[8, i] = float(text[8])  # gky\n",
    "        ae[9, i] = float(text[9])  # gkz\n",
    "\n",
    "    text = f.readline()  # コメント\n",
    "    # 要素構成節点: node\n",
    "    for i in range(0, nele):\n",
    "        text = f.readline()\n",
    "        text = text.strip()\n",
    "        text = text.split()\n",
    "        node[0, i] = int(text[0])  #node_1\n",
    "        node[1, i] = int(text[1])  #node_2\n",
    "        node[2, i] = int(text[2])  #要素番号\n",
    "\n",
    "    text = f.readline()  # コメント\n",
    "    # 座標: x\n",
    "    for i in range(0, npoin):\n",
    "        text = f.readline()\n",
    "        text = text.strip()\n",
    "        text = text.split()\n",
    "        x[0, i] = float(text[0])  # x-座標\n",
    "        x[1, i] = float(text[1])  # y-座標\n",
    "        x[2, i] = float(text[2])  # z-座標\n",
    "    \n",
    "    # 要素質量\n",
    "    for i in range(0, nele):\n",
    "        node1_x = x[0, i]\n",
    "        #         node1_y = x[1, i]\n",
    "        #         node1_z = x[2, i]\n",
    "        node2_x = x[0, i + 1]\n",
    "        #         node2_y = x[1, i+1]\n",
    "        #         node2_z = x[2, i+1]\n",
    "        A = ae[2, i]\n",
    "        density = ae[6, i]\n",
    "        ae[10, i] = abs(node1_x - node2_x) * A * density\n",
    "        \n",
    "#     for j in range(0, n_t+1):\n",
    "\n",
    "    text = f.readline()  # コメント\n",
    "    # 境界条件（拘束状態） (0:free, 1:restricted)\n",
    "    for i in range(0, npfix):\n",
    "        text = f.readline()\n",
    "        text = text.strip()\n",
    "        text = text.split()\n",
    "        lp = int(text[0])  # 固定されたノード番号\n",
    "        for j in range(0, n_t + 1):\n",
    "            mpfix[j, 0, lp - 1] = int(text[1])  # x方向固定\n",
    "            mpfix[j, 1, lp - 1] = int(text[2])  # y方向固定\n",
    "            mpfix[j, 2, lp - 1] = int(text[3])  # z方向固定\n",
    "            mpfix[j, 3, lp - 1] = int(text[4])  # x軸回転固定\n",
    "            mpfix[j, 4, lp - 1] = int(text[5])  # y軸回転固定\n",
    "            mpfix[j, 5, lp - 1] = int(text[6])  # z軸回転固定\n",
    "            rdis[j, 0, lp - 1] = float(text[7])  # x方向既知変位\n",
    "            rdis[j, 1, lp - 1] = float(text[8])  # y方向既知変位\n",
    "            rdis[j, 2, lp - 1] = float(text[9])  # z方向既知変位\n",
    "            rdis[j, 3, lp - 1] = float(text[10])  # x軸既知回転量\n",
    "            rdis[j, 4, lp - 1] = float(text[11])  # y軸既知回転量\n",
    "            rdis[j, 5, lp - 1] = float(text[12])  # z軸既知回転量\n",
    "\n",
    "    text = f.readline()  # コメント\n",
    "    # 荷重\n",
    "    for i in range(0, nlod):\n",
    "        text = f.readline()\n",
    "        text = text.strip()\n",
    "        text = text.split()\n",
    "        lp = int(text[0])\n",
    "        for j in range(0, n_t + 1):\n",
    "            fp[j, 6 * lp - 6] = float(text[1])  # x方向荷重\n",
    "            fp[j, 6 * lp - 5] = float(text[2])  # y方向荷重\n",
    "            fp[j, 6 * lp - 4] = float(text[3])  # z方向荷重\n",
    "            fp[j, 6 * lp - 3] = float(text[4])  # x軸モーメント\n",
    "            fp[j, 6 * lp - 2] = float(text[5])  # y軸モーメント\n",
    "            fp[j, 6 * lp - 1] = float(text[6])  # z軸モーメント\n",
    "    f.close()\n",
    "    return npoin, nele, npfix, nlod, delta_t, n_t, ae, node, x, mpfix, rdis, fp"
   ]
  },
  {
   "cell_type": "code",
   "execution_count": 3,
   "metadata": {},
   "outputs": [],
   "source": [
    "# npoin,nele,npfix,nlod,delta_t,n_t,ae,node,x,mpfix,rdis,fp=inputdata('test_verification1.txt',2, 6)"
   ]
  },
  {
   "cell_type": "code",
   "execution_count": 4,
   "metadata": {},
   "outputs": [],
   "source": [
    "# 要素剛性マトリックス作成（local）\n",
    "def sm_3dfrm(EA,GJ,EIy,EIz,x1,y1,z1,x2,y2,z2):\n",
    "    ek=np.zeros((12,12),dtype=np.float64) # local stiffness matrix\n",
    "    xx=x2-x1\n",
    "    yy=y2-y1\n",
    "    zz=z2-z1\n",
    "    el=np.sqrt(xx**2+yy**2+zz**2)\n",
    "    ek[ 0, 0]= EA/el\n",
    "    ek[ 0, 6]=-EA/el\n",
    "    ek[ 1, 1]= 12*EIz/el**3\n",
    "    ek[ 1, 5]=  6*EIz/el**2\n",
    "    ek[ 1, 7]=-12*EIz/el**3\n",
    "    ek[ 1,11]=  6*EIz/el**2\n",
    "    ek[ 2, 2]= 12*EIy/el**3\n",
    "    ek[ 2, 4]= -6*EIy/el**2\n",
    "    ek[ 2, 8]=-12*EIy/el**3\n",
    "    ek[ 2,10]= -6*EIy/el**2\n",
    "    ek[ 3, 3]= GJ/el\n",
    "    ek[ 3, 9]=-GJ/el\n",
    "    ek[ 4, 2]= -6*EIy/el**2\n",
    "    ek[ 4, 4]=  4*EIy/el\n",
    "    ek[ 4, 8]=  6*EIy/el**2\n",
    "    ek[ 4,10]=  2*EIy/el\n",
    "    ek[ 5, 1]=  6*EIz/el**2\n",
    "    ek[ 5, 5]=  4*EIz/el\n",
    "    ek[ 5, 7]= -6*EIz/el**2\n",
    "    ek[ 5,11]=  2*EIz/el\n",
    "    ek[ 6, 0]=-EA/el\n",
    "    ek[ 6, 6]= EA/el\n",
    "    ek[ 7, 1]=-12*EIz/el**3\n",
    "    ek[ 7, 5]= -6*EIz/el**2\n",
    "    ek[ 7, 7]= 12*EIz/el**3\n",
    "    ek[ 7,11]= -6*EIz/el**2\n",
    "    ek[ 8, 2]=-12*EIy/el**3\n",
    "    ek[ 8, 4]=  6*EIy/el**2\n",
    "    ek[ 8, 8]= 12*EIy/el**3\n",
    "    ek[ 8,10]=  6*EIy/el**2\n",
    "    ek[ 9, 3]=-GJ/el\n",
    "    ek[ 9, 9]= GJ/el\n",
    "    ek[10, 2]= -6*EIy/el**2\n",
    "    ek[10, 4]=  2*EIy/el\n",
    "    ek[10, 8]=  6*EIy/el**2\n",
    "    ek[10,10]=  4*EIy/el\n",
    "    ek[11, 1]=  6*EIz/el**2\n",
    "    ek[11, 5]=  2*EIz/el\n",
    "    ek[11, 7]= -6*EIz/el**2\n",
    "    ek[11,11]=  4*EIz/el\n",
    "    return ek"
   ]
  },
  {
   "cell_type": "code",
   "execution_count": 5,
   "metadata": {},
   "outputs": [],
   "source": [
    "def mass_3dfrm(ae_mass, npoin, nfree):\n",
    "    # 番兵追加\n",
    "    mass = np.append(ae_mass, 0.0)\n",
    "    mass = np.insert(mass, 0, 0.0)\n",
    "    ret = np.eye(npoin*nfree, dtype=np.float64)\n",
    "    for i in range(0, len(mass) - 1):\n",
    "        node_mass = (mass[i] + mass[i+1]) / 2.0\n",
    "        for j in range(0, nfree):\n",
    "            idx = i*nfree + j\n",
    "            ret[idx,idx] *= node_mass\n",
    "    return ret"
   ]
  },
  {
   "cell_type": "code",
   "execution_count": 6,
   "metadata": {},
   "outputs": [],
   "source": [
    "def dumping_3dfrm(gamma, omega, mass_mat, gk):\n",
    "    m = gamma * mass_mat\n",
    "    gk = omega * gk    \n",
    "    for i in range(0, len(gk)):\n",
    "        gk[i, i] += m[i, i]        \n",
    "    return gk"
   ]
  },
  {
   "cell_type": "code",
   "execution_count": 7,
   "metadata": {},
   "outputs": [],
   "source": [
    "# newmark マトリックスを作成\n",
    "# newmarkのparam: alpha, beta\n",
    "def newmark_3dfrm(delta_t, alpha, beta, gk, mass_mat, c_mat): \n",
    "    return (1.0/beta/delta_t**2) * mass_mat  \\\n",
    "         + (alpha/beta/delta_t) * c_mat \\\n",
    "         + gk"
   ]
  },
  {
   "cell_type": "code",
   "execution_count": 8,
   "metadata": {},
   "outputs": [],
   "source": [
    "def main_3d_NEWMARK_FEM():\n",
    "        start=time.time()\n",
    "        args = sys.argv\n",
    "        fnameR=args[1]\n",
    "        fnameW=args[2]\n",
    "        nod=2\n",
    "        nfree=6\n",
    "        alpha=0.5  # newmark param\n",
    "        beta=0.25  # newmark param\n",
    "        gamma=0.01 # dumping param\n",
    "        omega=0.01 # dumping param\n",
    "        npoin,nele,npfix,nlod,delta_t,n_t,ae,node,x,mpfix,rdis,fp=inputdata('test_verification1.txt',nod,nfree)\n",
    "        mass_mat=mass_3dfrm(ae[10], npoin, nfree)\n",
    "        acc=np.zeros((n_t+1, nfree*npoin), dtype=np.float64)\n",
    "        vec=np.zeros((n_t+1, nfree*npoin), dtype=np.float64)\n",
    "        dis=np.zeros((n_t+1, nfree*npoin), dtype=np.float64)\n",
    "        for step in range(1, n_t+1):\n",
    "            ir=np.zeros(nod*nfree, dtype=np.int) \n",
    "            gk=np.zeros((nfree*npoin, nfree*npoin), dtype=np.float64) # Global stifness matrix\n",
    "            \n",
    "            # assembly stifness matrix & load vector\n",
    "            for ne in range(0, nele):\n",
    "                i=node[0,ne]-1\n",
    "                j=node[1,ne]-1\n",
    "                m=node[2,ne]-1\n",
    "                x1=x[0,i]; y1=x[1,i]; z1=x[2,i]\n",
    "                x2=x[0,j]; y2=x[1,j]; z2=x[2,j]\n",
    "                ee   =ae[0,m]  # elastic modulus\n",
    "                po   =ae[1,m]  # Poisson's ratio\n",
    "                aa   =ae[2,m]  # section area\n",
    "                aix  =ae[3,m]  # tortional constant\n",
    "                aiy  =ae[4,m]  # moment of inertia around y-axis\n",
    "                aiz  =ae[5,m]  # moment of inertia around z-axis\n",
    "                den  =ae[6,m]  # unit density of material\n",
    "                gkX  =ae[7,m]  # seismic coefficient in X-direction\n",
    "                gkY  =ae[8,m]  # seismic coefficient in Y-direction\n",
    "                gkZ  =ae[9,m]  # seismic coefficient in Z-direction\n",
    "                A=aa  # section area\n",
    "                EA=ee*aa\n",
    "                GJ=ee/2/(1+po)*aix\n",
    "                EIy=ee*aiy\n",
    "                EIz=ee*aiz\n",
    "                ek=sm_3dfrm(EA,GJ,EIy,EIz,x1,y1,z1,x2,y2,z2) # local stiffness matrix                                \n",
    "                ir[11]=6*j+5; ir[10]=ir[11]-1; ir[9]=ir[10]-1; ir[8]=ir[9]-1; ir[7]=ir[8]-1; ir[6]=ir[7]-1\n",
    "                ir[5] =6*i+5; ir[4] =ir[5]-1 ; ir[3]=ir[4]-1 ; ir[2]=ir[3]-1; ir[1]=ir[2]-1; ir[0]=ir[1]-1                \n",
    "                # assemble\n",
    "                for i in range(0, nod*nfree):\n",
    "                    it=ir[i]\n",
    "                    for j in range(0, nod*nfree):\n",
    "                        jt=ir[j]\n",
    "                        gk[it, jt] = gk[it, jt] + ek[i,j]   \n",
    "            \n",
    "            # 検証用\n",
    "#             gk_eig_val, gk_eig_vec = np.linalg.eig(gk)\n",
    "#             return sorted(gk_eig_val)\n",
    "#             eig_val, eig_vec = scipy.linalg.eig(gk, mass_mat)\n",
    "#             return sorted(eig_val)\n",
    "            \n",
    "            c_mat=dumping_3dfrm(gamma, omega, mass_mat, gk)\n",
    "            \n",
    "            newmark_mat=newmark_3dfrm(delta_t, alpha, beta, gk, mass_mat, c_mat)          \n",
    "            # fpを整理\n",
    "            tmp_for_mass = (1.0/beta/delta_t**2)  * dis[step-1] \\\n",
    "                         + (1.0/beta/delta_t)     * vec[step-1] \\\n",
    "                         + ((1.0/2/beta)-1.0)     * acc[step-1]\n",
    "            \n",
    "            tmp_for_c = (alpha/beta/delta_t)            * dis[step-1] \\\n",
    "                      + ((alpha/beta)-1.0)              * vec[step-1] \\\n",
    "                      + delta_t * ((alpha/2/beta)-1.0)  * acc[step-1]                       \n",
    "            \n",
    "            fp[step] = fp[step] + np.dot(mass_mat, tmp_for_mass) + np.dot(c_mat, tmp_for_c)            \n",
    "            \n",
    "            # boudary conditions\n",
    "            for i in range(0, npoin):\n",
    "                for j in range(0, nfree):\n",
    "                    if mpfix[step, j, i] == 1:                        \n",
    "                        iz=i*nfree+j\n",
    "                        fp[step,iz]=0.0\n",
    "\n",
    "            for i in range (0, npoin):\n",
    "                for j in range(0, nfree):\n",
    "                    if mpfix[step, j, i] == 1:\n",
    "                        iz=i*nfree+j\n",
    "                        newmark_mat[:,iz]=0.0\n",
    "                        newmark_mat[iz,iz]=1.0\n",
    "            # 疎行列圧縮格納\n",
    "#             sp_newmark_mat = csr_matrix(newmark_mat)\n",
    "#             dis[step] = spsolve(sp_newmark_mat, fp[step], use_umfpack=True)\n",
    "            dis[step] = np.linalg.solve(newmark_mat, fp[step])\n",
    "                        \n",
    "            # 拘束条件を再代入する\n",
    "            for i in range(0, npoin):\n",
    "                for j in range(0, nfree):\n",
    "                    if mpfix[step, j, i] == 1:\n",
    "                        iz=i*nfree+j\n",
    "                        dis[step, iz] = rdis[step, j, i]\n",
    "                        \n",
    "            # 速度, 加速度計算            \n",
    "            acc[step] = (1.0/beta/delta_t**2)        * (dis[step] - dis[step - 1]) \\\n",
    "                      - (1.0/beta/delta_t)           * vec[step - 1] \\\n",
    "                      - ((1.0/2/beta)-1.0)           * acc[step - 1]\n",
    "            vec[step] = (alpha/beta/delta_t)         * (dis[step] - dis[step - 1]) \\\n",
    "                      + (1.0-(alpha/beta))           * vec[step - 1] \\\n",
    "                      + delta_t*(1.0-(alpha/2/beta)) * acc[step - 1]            \n",
    "        # print out result\n",
    "        dtime=time.time()-start\n",
    "        print('time: {0:.3f}'.format(dtime)+'sec')\n",
    "        return dis, vec, acc\n",
    "\n",
    "\n"
   ]
  },
  {
   "cell_type": "code",
   "execution_count": 9,
   "metadata": {},
   "outputs": [
    {
     "name": "stdout",
     "output_type": "stream",
     "text": [
      "time: 5.079sec\n"
     ]
    }
   ],
   "source": [
    "dis, vec, acc = main_3d_NEWMARK_FEM()"
   ]
  },
  {
   "cell_type": "code",
   "execution_count": 10,
   "metadata": {},
   "outputs": [],
   "source": [
    "check = np.empty((1000), dtype=np.float64)\n",
    "for i in range(0, 1000):\n",
    "    check[i] = dis[i, 22 * 6 + 2]"
   ]
  },
  {
   "cell_type": "code",
   "execution_count": 11,
   "metadata": {},
   "outputs": [
    {
     "data": {
      "image/png": "[encoded data removed]",
      "text/plain": [
       "<Figure size 864x576 with 1 Axes>"
      ]
     },
     "metadata": {
      "needs_background": "light"
     },
     "output_type": "display_data"
    }
   ],
   "source": [
    "fig = plt.figure(figsize=(12, 8))\n",
    "ax = fig.add_subplot(111)\n",
    "ax.plot(check, label='newmark_verif', color=(0, 0, 1))\n",
    "# plt.savefig('newmark_verif.png')\n",
    "plt.show()"
   ]
  },
  {
   "cell_type": "code",
   "execution_count": 13,
   "metadata": {},
   "outputs": [
    {
     "data": {
      "image/png": "[encoded data removed]",
      "text/plain": [
       "<Figure size 432x288 with 1 Axes>"
      ]
     },
     "metadata": {
      "needs_background": "light"
     },
     "output_type": "display_data"
    }
   ],
   "source": [
    "plt.plot(static_verif_z, label='static verif')\n",
    "plt.show()"
   ]
  },
  {
   "cell_type": "code",
   "execution_count": 14,
   "metadata": {},
   "outputs": [
    {
     "data": {
      "text/plain": [
       "0.005156117203791469"
      ]
     },
     "execution_count": 14,
     "metadata": {},
     "output_type": "execute_result"
    }
   ],
   "source": [
    "1 * 0.993**3 / (3 * 1.0e11 * 6.33e-10)"
   ]
  },
  {
   "cell_type": "code",
   "execution_count": 38,
   "metadata": {},
   "outputs": [
    {
     "data": {
      "text/plain": [
       "83.60023923410746"
      ]
     },
     "execution_count": 38,
     "metadata": {},
     "output_type": "execute_result"
    }
   ],
   "source": [
    "np.sqrt(6989)"
   ]
  },
  {
   "cell_type": "code",
   "execution_count": 40,
   "metadata": {},
   "outputs": [
    {
     "data": {
      "text/plain": [
       "0.07511961722488039"
      ]
     },
     "execution_count": 40,
     "metadata": {},
     "output_type": "execute_result"
    }
   ],
   "source": [
    "2 * 3.14 / 83.6"
   ]
  },
  {
   "cell_type": "code",
   "execution_count": 71,
   "metadata": {},
   "outputs": [
    {
     "data": {
      "text/plain": [
       "6"
      ]
     },
     "execution_count": 71,
     "metadata": {},
     "output_type": "execute_result"
    }
   ],
   "source": [
    "1 \\\n",
    "+ 2 \\\n",
    "+3"
   ]
  },
  {
   "cell_type": "code",
   "execution_count": 37,
   "metadata": {},
   "outputs": [
    {
     "data": {
      "text/plain": [
       "0.005151445397488152"
      ]
     },
     "execution_count": 37,
     "metadata": {},
     "output_type": "execute_result"
    }
   ],
   "source": [
    "1 * (0.9927)**3 / 3 / 1e11/ 6.33e-10"
   ]
  },
  {
   "cell_type": "code",
   "execution_count": null,
   "metadata": {},
   "outputs": [],
   "source": []
  }
 ],
 "metadata": {
  "jupytext": {
   "encoding": "# -*- coding: utf-8 -*-",
   "text_representation": {
    "extension": ".py",
    "format_name": "light",
    "format_version": "1.4",
    "jupytext_version": "1.2.3"
   }
  },
  "kernelspec": {
   "display_name": "Python 3",
   "language": "python",
   "name": "python3"
  },
  "language_info": {
   "codemirror_mode": {
    "name": "ipython",
    "version": 3
   },
   "file_extension": ".py",
   "mimetype": "text/x-python",
   "name": "python",
   "nbconvert_exporter": "python",
   "pygments_lexer": "ipython3",
   "version": "3.7.4"
  }
 },
 "nbformat": 4,
 "nbformat_minor": 2
}
