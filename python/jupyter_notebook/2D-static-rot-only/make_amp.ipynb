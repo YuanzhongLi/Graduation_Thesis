{
 "cells": [
  {
   "cell_type": "code",
   "execution_count": 1,
   "metadata": {},
   "outputs": [],
   "source": [
    "import numpy as np"
   ]
  },
  {
   "cell_type": "code",
   "execution_count": 2,
   "metadata": {},
   "outputs": [],
   "source": [
    "def get_acc(sec, deg):\n",
    "    rad = np.deg2rad(deg)\n",
    "    return 2*rad/(sec**2)"
   ]
  },
  {
   "cell_type": "code",
   "execution_count": 9,
   "metadata": {},
   "outputs": [],
   "source": [
    "def make_amp(sec=1.0, n_t=100, deg=180):\n",
    "    delta_t = sec / n_t\n",
    "    acc_rad = get_acc(sec, deg)\n",
    "    with open('amp_vrz_等角加速度_{0}sec_{1}step_{2}deg.txt'.format(sec, n_t, deg), 'w', encoding='ascii') as f:\n",
    "        for i in range(n_t):\n",
    "            if i < n_t-1:\n",
    "                f.write('{0:.5f} {1}\\n'.format(i*delta_t, (i+1)*delta_t*acc_rad))\n",
    "            else:\n",
    "                f.write('{0:.5f} {1}'.format(i*delta_t, (i+1)*delta_t*acc_rad))\n",
    "    return"
   ]
  },
  {
   "cell_type": "code",
   "execution_count": 10,
   "metadata": {},
   "outputs": [],
   "source": [
    "make_amp(3, 1000, 180)"
   ]
  },
  {
   "cell_type": "code",
   "execution_count": null,
   "metadata": {},
   "outputs": [],
   "source": []
  }
 ],
 "metadata": {
  "jupytext": {
   "text_representation": {
    "extension": ".py",
    "format_name": "light",
    "format_version": "1.4",
    "jupytext_version": "1.2.3"
   }
  },
  "kernelspec": {
   "display_name": "Python 3",
   "language": "python",
   "name": "python3"
  },
  "language_info": {
   "codemirror_mode": {
    "name": "ipython",
    "version": 3
   },
   "file_extension": ".py",
   "mimetype": "text/x-python",
   "name": "python",
   "nbconvert_exporter": "python",
   "pygments_lexer": "ipython3",
   "version": "3.7.4"
  }
 },
 "nbformat": 4,
 "nbformat_minor": 2
}
