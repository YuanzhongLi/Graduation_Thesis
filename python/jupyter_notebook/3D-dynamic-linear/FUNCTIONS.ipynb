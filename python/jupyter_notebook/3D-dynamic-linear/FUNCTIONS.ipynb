{
 "cells": [
  {
   "cell_type": "code",
   "execution_count": 2,
   "metadata": {},
   "outputs": [],
   "source": [
    "import numpy as np"
   ]
  },
  {
   "cell_type": "code",
   "execution_count": 3,
   "metadata": {},
   "outputs": [],
   "source": [
    "def getNodePart(f):\n",
    "    array = []\n",
    "    while True:\n",
    "        line = f.readline()\n",
    "        if '*' in line:\n",
    "            break\n",
    "        line_array = line.strip().split(',')\n",
    "        x = np.float64(line_array[1])\n",
    "        y = np.float64(line_array[2])\n",
    "        z = np.float64(line_array[3])\n",
    "        array.append([x, y, z])        \n",
    "    return np.array(array, dtype=np.float64).T"
   ]
  },
  {
   "cell_type": "code",
   "execution_count": 4,
   "metadata": {},
   "outputs": [],
   "source": [
    "def getBeemGeneralSection(line, f):\n",
    "    l_array = line.strip().split(',')\n",
    "    density = np.float64(l_array[2].replace('density=', ''))\n",
    "    l1 = f.readline()\n",
    "    l1_array = l1.strip().split(',')\n",
    "    A = np.float64(l1_array[0])\n",
    "    I11 = np.float64(l1_array[1])\n",
    "    I12 = np.float64(l1_array[2])\n",
    "    I22 = np.float64(l1_array[3])\n",
    "    J = np.float64(l1_array[4])\n",
    "    \n",
    "    l2 = f.readline()\n",
    "    \n",
    "    l3 = f.readline()\n",
    "    l3_array = l3.strip().split(',')\n",
    "    E = np.float64(l3_array[0])\n",
    "    G = np.float64(l3_array[1])\n",
    "    \n",
    "    l4 = f.readline()\n",
    "    l4_array = l4.strip().split(',')\n",
    "    alpha = np.float64(l4_array[1].replace('alpha=', ''))\n",
    "    beta = np.float64(l4_array[2].replace('beta=', ''))\n",
    "    return density, A, I11, I12, I22, J, E, G, alpha, beta"
   ]
  },
  {
   "cell_type": "code",
   "execution_count": 5,
   "metadata": {},
   "outputs": [],
   "source": [
    "def getHeadMass(f):\n",
    "    line = f.readline()\n",
    "    line.strip()\n",
    "    line = line.replace(',', '')\n",
    "    return np.float64(line)"
   ]
  },
  {
   "cell_type": "code",
   "execution_count": 6,
   "metadata": {},
   "outputs": [],
   "source": [
    "def getAmplitude(f):\n",
    "    array = [[0.0, 0.0]]\n",
    "    isBreak = False\n",
    "    while True:\n",
    "        line = f.readline()\n",
    "        if '**' in line:\n",
    "            break\n",
    "        l_array = line.strip().split(',')\n",
    "        for i in range(len(l_array) // 2):\n",
    "            array.append([np.float64(l_array[i*2]), np.float64(l_array[i*2+1])])\n",
    "    return np.array(array, dtype=np.float64)"
   ]
  },
  {
   "cell_type": "code",
   "execution_count": 7,
   "metadata": {},
   "outputs": [],
   "source": [
    "def getDelta_t(f):\n",
    "    line = f.readline()\n",
    "    l_array = line.strip().split(',')\n",
    "    return np.float64(l_array[0])"
   ]
  },
  {
   "cell_type": "code",
   "execution_count": 8,
   "metadata": {},
   "outputs": [],
   "source": [
    "def inputdata(file_path):\n",
    "    with open(file_path, 'r') as f:\n",
    "        originCoordsG = None\n",
    "        ae = None\n",
    "        npoin = None\n",
    "        nele = None\n",
    "        delta_t = None\n",
    "        n_t = None\n",
    "        VX = None\n",
    "        VY = None\n",
    "        VZ = None \n",
    "        RVX = None\n",
    "        RVY = None\n",
    "        RVZ = None\n",
    "        head_mass = None\n",
    "        gamma = None\n",
    "        omega = None\n",
    "        HHT_alpha = None\n",
    "        i = 0\n",
    "        while True:\n",
    "            line = f.readline()                       \n",
    "            if '*END STEP' in line.upper():\n",
    "                break\n",
    "            if '*NODE\\n' == line.upper():\n",
    "                originCoordsG = getNodePart(f)\n",
    "                npoin = originCoordsG.shape[1]\n",
    "                nele = npoin-1\n",
    "                ae = np.zeros((8, nele), dtype=np.float64)\n",
    "            elif '*Beam General Section' in line:\n",
    "                density, A, I11, I12, I22, J, E, G, alpha, beta = getBeemGeneralSection(line, f)\n",
    "                ae[0, i] = A\n",
    "                ae[1, i] = I11\n",
    "                ae[2, i] = I12\n",
    "                ae[3, i] = I22\n",
    "                ae[4, i] = J\n",
    "                ae[5, i] = E\n",
    "                ae[6, i] = G\n",
    "                L = np.sqrt(np.sum((originCoordsG.T[i+1]-originCoordsG.T[i])**2))\n",
    "                ae[7, i] = A * L * density\n",
    "                gamma = alpha\n",
    "                omega = beta\n",
    "                i += 1\n",
    "            elif '*MASS' in line.upper():\n",
    "                head_mass = getHeadMass(f)\n",
    "            elif '*Amplitude' in line:\n",
    "                if 'name=VX' in line:\n",
    "                    VX = getAmplitude(f)\n",
    "                    n_t = VX.shape[0]-1\n",
    "                elif 'name=VY' in line:\n",
    "                    VY = getAmplitude(f)\n",
    "                    n_t = VY.shape[0]-1\n",
    "                elif 'name=VZ' in line:\n",
    "                    VZ = getAmplitude(f)\n",
    "                    n_t = VZ.shape[0]-1\n",
    "                elif 'name=RVX' in line:\n",
    "                    RVX = getAmplitude(f)\n",
    "                    n_t = RVX.shape[0]-1\n",
    "                elif 'name=RVY' in line:\n",
    "                    RVY = getAmplitude(f)\n",
    "                    n_t = RVY.shape[0]-1\n",
    "                elif 'name=RVZ' in line:\n",
    "                    RVZ = getAmplitude(f)\n",
    "                    n_t = RVZ.shape[0]-1\n",
    "            elif ('*Dynamic' in line) and ('direct' in line):\n",
    "                l_array = line.strip().split(',')\n",
    "                HHT_alpha = np.float64(l_array[1].replace('alpha=', ''))\n",
    "                delta_t = getDelta_t(f)\n",
    "        return originCoordsG, ae, npoin, nele, delta_t, n_t, VX, VY, VZ, RVX, RVY, RVZ, head_mass, gamma, omega, HHT_alpha                                "
   ]
  },
  {
   "cell_type": "code",
   "execution_count": 9,
   "metadata": {},
   "outputs": [],
   "source": [
    "# originCoordsG, ae, npoin, nele, delta_t, n_t, VX, VY, VZ, RVX, RVY, RVZ, head_mass, gamma, omega, HHT_alpha = inputdata('test08.txt')"
   ]
  },
  {
   "cell_type": "code",
   "execution_count": 10,
   "metadata": {},
   "outputs": [],
   "source": [
    "def get_abaqus_data(file_path, step, node_num):\n",
    "    ret = np.zeros((step, node_num*6), dtype=np.float64)\n",
    "    with open(file_path, 'r') as f:\n",
    "        for i in range(step):\n",
    "            line = '-'\n",
    "            while (len(line) < 20 or line[0] != '-'):\n",
    "                line = f.readline()\n",
    "            for j in range(node_num):\n",
    "                l = f.readline().strip().split()\n",
    "                for index,ele in enumerate(l):\n",
    "                    if index > 0:\n",
    "                        ret[i, j*6+index-1] = float(ele)\n",
    "    return ret"
   ]
  },
  {
   "cell_type": "code",
   "execution_count": 13,
   "metadata": {
    "lines_to_next_cell": 0
   },
   "outputs": [],
   "source": [
    "# originCoordsG, ae, npoin, nele, delta_t, n_t, VX, VY, VZ, RVX, RVY, RVZ, head_mass, gamma, omega, HHT_alpha = inputdata('test08.txt')"
   ]
  }
 ],
 "metadata": {
  "jupytext": {
   "text_representation": {
    "extension": ".py",
    "format_name": "light",
    "format_version": "1.5",
    "jupytext_version": "1.3.2"
   }
  },
  "kernelspec": {
   "display_name": "Python 3",
   "language": "python",
   "name": "python3"
  },
  "language_info": {
   "codemirror_mode": {
    "name": "ipython",
    "version": 3
   },
   "file_extension": ".py",
   "mimetype": "text/x-python",
   "name": "python",
   "nbconvert_exporter": "python",
   "pygments_lexer": "ipython3",
   "version": "3.7.4"
  }
 },
 "nbformat": 4,
 "nbformat_minor": 2
}
