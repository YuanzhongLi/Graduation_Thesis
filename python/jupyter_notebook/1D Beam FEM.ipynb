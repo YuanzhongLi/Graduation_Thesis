{
 "cells": [
  {
   "cell_type": "code",
   "execution_count": 2,
   "metadata": {},
   "outputs": [],
   "source": [
    "import numpy as np\n",
    "from scipy.sparse.linalg import spsolve\n",
    "from scipy.sparse import csr_matrix\n",
    "import sys\n",
    "import time"
   ]
  },
  {
   "cell_type": "code",
   "execution_count": 34,
   "metadata": {},
   "outputs": [],
   "source": [
    "def inpdata_1dfrm(fnameR,nod,nfree):\n",
    "    f=open(fnameR,'r')\n",
    "    text=f.readline()\n",
    "    text=text.strip()\n",
    "    text=text.split()\n",
    "    npoin=int(text[0]) # Number of nodes\n",
    "    nele =int(text[1]) # Number of elements\n",
    "    nsec =int(text[2]) # Number of sections\n",
    "    npfix=int(text[3]) # Number of restricted nodes\n",
    "    nlod =int(text[4]) # Number of loaded nodes\n",
    "    # array declaration\n",
    "    ae    =np.zeros((5,nsec),dtype=np.float64)      # Section characteristics\n",
    "    node  =np.zeros((nod+1,nele),dtype=np.int)       # node-element relationship\n",
    "    x     =np.zeros((3,npoin),dtype=np.float64)      # Coordinates of nodes\n",
    "    mpfix =np.zeros((nfree,npoin),dtype=np.int)      # Ristrict conditions\n",
    "    rdis  =np.zeros((nfree,npoin),dtype=np.float64)  # Ristricted displacement\n",
    "    fp    =np.zeros(nfree*npoin,dtype=np.float64)    # External force vector\n",
    "    # section characteristics\n",
    "    for i in range(0,nsec):\n",
    "        text=f.readline()\n",
    "        text=text.strip()\n",
    "        text=text.split()\n",
    "        ae[0,i] =float(text[0])  # E     : elastic modulus\n",
    "        ae[1,i] =float(text[1])  # po    : Poisson's ratio\n",
    "        ae[2,i] =float(text[2])  # a     : section area\n",
    "        ae[3,i] =float(text[3])  # aix   : tortional constant\n",
    "        ae[4,i] =float(text[4])  # gamma : unit weight of material\n",
    "    # element-node\n",
    "    for i in range(0,nele):\n",
    "        text=f.readline()\n",
    "        text=text.strip()\n",
    "        text=text.split()\n",
    "        node[0,i]=int(text[0]) #node_1\n",
    "        node[1,i]=int(text[1]) #node_2\n",
    "        node[2,i]=int(text[2]) #section characteristic number\n",
    "    # node coordinates\n",
    "    for i in range(0,npoin):\n",
    "        text=f.readline()\n",
    "        text=text.strip()\n",
    "        text=text.split()\n",
    "        x[0,i]=float(text[0])    # x-coordinate\n",
    "        x[1,i]=float(text[1])    # y-coordinate\n",
    "        x[2,i]=float(text[2])    # z-coordinate\n",
    "    # boundary conditions (0:free, 1:restricted)\n",
    "    for i in range(0,npfix):\n",
    "        text=f.readline()\n",
    "        text=text.strip()\n",
    "        text=text.split()\n",
    "        lp=int(text[0])              #fixed node\n",
    "        mpfix[0,lp-1]=int(text[1])   #fixed in x-direction\n",
    "        mpfix[1,lp-1]=int(text[2])   #fixed in y-direction\n",
    "        mpfix[2,lp-1]=int(text[3])   #fixed in z-direction\n",
    "        mpfix[3,lp-1]=int(text[4])   #fixed in rotation around x-axis\n",
    "        mpfix[4,lp-1]=int(text[5])   #fixed in rotation around y-axis\n",
    "        mpfix[5,lp-1]=int(text[6])   #fixed in rotation around z-axis\n",
    "        rdis[0,lp-1]=float(text[7])  #fixed displacement in x-direction\n",
    "        rdis[1,lp-1]=float(text[8])  #fixed displacement in y-direction\n",
    "        rdis[2,lp-1]=float(text[9])  #fixed displacement in z-direction\n",
    "        rdis[3,lp-1]=float(text[10]) #fixed rotation around x-axis\n",
    "        rdis[4,lp-1]=float(text[11]) #fixed rotation around y-axis\n",
    "        rdis[5,lp-1]=float(text[12]) #fixed rotation around z-axis\n",
    "    # load\n",
    "    if (nlod > 0):\n",
    "        for i in range(0,nlod):\n",
    "            text=f.readline()\n",
    "            text=text.strip()\n",
    "            text=text.split()\n",
    "            lp=int(text[0])           #loaded node\n",
    "            fp[6*lp-6]=float(text[1]) #load in x-direction\n",
    "            fp[6*lp-5]=float(text[2]) #load in y-direction\n",
    "            fp[6*lp-4]=float(text[3]) #load in z-direction\n",
    "            fp[6*lp-3]=float(text[4]) #moment around x-axis\n",
    "            fp[6*lp-2]=float(text[5]) #moment around y-axis\n",
    "            fp[6*lp-1]=float(text[6]) #moment around z-axis\n",
    "    f.close()\n",
    "    return npoin,nele,nsec,npfix,nlod,ae,node,x,mpfix,rdis,fp"
   ]
  },
  {
   "cell_type": "code",
   "execution_count": 35,
   "metadata": {},
   "outputs": [
    {
     "data": {
      "text/plain": [
       "(3, 2, 2, 1, 1, array([[1.  , 1.  ],\n",
       "        [1.  , 1.  ],\n",
       "        [1.  , 1.  ],\n",
       "        [3.14, 3.14],\n",
       "        [2.  , 2.  ]]), array([[1, 2],\n",
       "        [2, 3],\n",
       "        [1, 2],\n",
       "        [0, 0]]), array([[0., 1., 2.],\n",
       "        [0., 0., 0.],\n",
       "        [0., 0., 0.]]), array([[1, 0, 0],\n",
       "        [1, 0, 0],\n",
       "        [1, 0, 0],\n",
       "        [1, 0, 0],\n",
       "        [1, 0, 0],\n",
       "        [1, 0, 0]]), array([[0., 0., 0.],\n",
       "        [0., 0., 0.],\n",
       "        [0., 0., 0.],\n",
       "        [0., 0., 0.],\n",
       "        [0., 0., 0.],\n",
       "        [0., 0., 0.]]), array([0., 0., 0., 0., 0., 0., 0., 1., 0., 1., 0., 1., 0., 0., 0., 0., 0.,\n",
       "        0.]))"
      ]
     },
     "execution_count": 35,
     "metadata": {},
     "output_type": "execute_result"
    }
   ],
   "source": [
    "inpdata_1dfrm('test1.txt',nod = 3,nfree = 6)"
   ]
  },
  {
   "cell_type": "code",
   "execution_count": null,
   "metadata": {},
   "outputs": [],
   "source": []
  }
 ],
 "metadata": {
  "jupytext": {
   "main_language": "python",
   "text_representation": {
    "extension": ".py",
    "format_name": "light",
    "format_version": "1.4",
    "jupytext_version": "1.1.1"
   }
  },
  "kernelspec": {
   "display_name": "Python 3",
   "language": "python",
   "name": "python3"
  },
  "language_info": {
   "codemirror_mode": {
    "name": "ipython",
    "version": 3
   },
   "file_extension": ".py",
   "mimetype": "text/x-python",
   "name": "python",
   "nbconvert_exporter": "python",
   "pygments_lexer": "ipython3",
   "version": "3.7.3"
  }
 },
 "nbformat": 4,
 "nbformat_minor": 2
}
