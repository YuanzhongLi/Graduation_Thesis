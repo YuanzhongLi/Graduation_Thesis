{
 "cells": [
  {
   "cell_type": "code",
   "execution_count": 2,
   "metadata": {},
   "outputs": [],
   "source": [
    "import numpy as np"
   ]
  },
  {
   "cell_type": "code",
   "execution_count": 3,
   "metadata": {},
   "outputs": [],
   "source": [
    "def get_acc(sec, deg):\n",
    "    rad = np.deg2rad(deg)\n",
    "    return 2*rad/(sec**2)"
   ]
  },
  {
   "cell_type": "code",
   "execution_count": 4,
   "metadata": {},
   "outputs": [],
   "source": [
    "# 角速度を作成\n",
    "# sec秒でn_tステップ数でdeg°回転するamplitudeファイルを作成\n",
    "def make_rv_amp(sec=0.3, n_t=300, deg=180):\n",
    "    delta_t = sec / n_t\n",
    "    acc_rad = get_acc(sec, deg)\n",
    "    with open('amp_rvz_等角加速度_{0}sec_{1}step_{2}deg.txt'.format(sec, n_t, deg), 'w', encoding='ascii') as f:\n",
    "        for i in range(n_t):\n",
    "            if i < n_t-1:\n",
    "                f.write('{0:.5f} {1}\\n'.format(i*delta_t, (i+1)*delta_t*acc_rad))\n",
    "            else:\n",
    "                f.write('{0:.5f} {1}'.format(i*delta_t, (i+1)*delta_t*acc_rad))\n",
    "    return\n",
    "\n",
    "# make_rv_amp(0.6, 600, 180)"
   ]
  },
  {
   "cell_type": "code",
   "execution_count": 5,
   "metadata": {},
   "outputs": [],
   "source": [
    "# 速度を作成\n",
    "# sec秒でn_tステップ数で半径r円上をdeg°回転するamplitudeファイルを作成\n",
    "def make_circle_v_amp(sec=0.3, n_t=300, deg=180, r=0.2):\n",
    "    delta_t = sec / n_t\n",
    "    rad = np.deg2rad(deg)\n",
    "    a_rad = 2 * rad / (sec**2)\n",
    "    with open('amp_vx_半径{3}_{0}sec_{1}step_{2}deg.txt'.format(sec, n_t, deg, r), 'w', encoding='ascii') as f:\n",
    "        for i in range(n_t):\n",
    "            v_rad = a_rad*((i+1)*delta_t)\n",
    "            u_rad = 1/2*a_rad*(((i+1)*delta_t)**2)\n",
    "            if i < n_t-1:\n",
    "                f.write('{0:.5f} {1}\\n'.format(i*delta_t, -r*np.sin(u_rad)*v_rad))\n",
    "            else:\n",
    "                f.write('{0:.5f} {1}'.format(i*delta_t, -r*np.sin(u_rad)*v_rad))\n",
    "\n",
    "    with open('amp_vy_半径{3}_{0}sec_{1}step_{2}deg.txt'.format(sec, n_t, deg, r), 'w', encoding='ascii') as f:\n",
    "        for i in range(n_t):\n",
    "            v_rad = a_rad*((i+1)*delta_t)\n",
    "            u_rad = 1/2*a_rad*(((i+1)*delta_t)**2)\n",
    "            if i < n_t-1:\n",
    "                f.write('{0:.5f} {1}\\n'.format(i*delta_t, r*np.cos(u_rad)*v_rad))\n",
    "            else:\n",
    "                f.write('{0:.5f} {1}'.format(i*delta_t, r*np.cos(u_rad)*v_rad))\n",
    "    return\n",
    "# make_circle_v_amp(0.3, 300, 180, 0.6)"
   ]
  }
 ],
 "metadata": {
  "jupytext": {
   "encoding": "# -*- coding: utf-8 -*-",
   "text_representation": {
    "extension": ".py",
    "format_name": "light",
    "format_version": "1.5",
    "jupytext_version": "1.3.2"
   }
  },
  "kernelspec": {
   "display_name": "Python 3",
   "language": "python",
   "name": "python3"
  },
  "language_info": {
   "codemirror_mode": {
    "name": "ipython",
    "version": 3
   },
   "file_extension": ".py",
   "mimetype": "text/x-python",
   "name": "python",
   "nbconvert_exporter": "python",
   "pygments_lexer": "ipython3",
   "version": "3.7.4"
  }
 },
 "nbformat": 4,
 "nbformat_minor": 2
}
